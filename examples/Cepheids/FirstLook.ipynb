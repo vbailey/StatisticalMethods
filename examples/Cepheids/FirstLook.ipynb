{
 "cells": [
  {
   "cell_type": "markdown",
   "metadata": {},
   "source": [
    "# A First Look at the Periods and Luminosities of Cepheid Stars\n",
    "\n",
    "* Cepheids are stars whose brightness oscillates with a stable period that appears to be strongly correlated with their luminosity (or absolute magnitude).\n",
    "\n",
    "\n",
    "* A lot of _monitoring_ data - repeated imaging and subsequent \"photometry\" of the star - can provide a measurement of the absolute magnitude (if we know the distance to it's host galaxy) and the period of the oscillation.\n",
    "\n",
    "\n",
    "* Let's look at some Cepheid measurements reported by [Riess et al (2011)](Riess et al., 2011, ApJ, 730, 119).  Like the correlation function summaries, they are in the form of datapoints with error bars, where it is not clear how those error bars were derived (or what they mean)."
   ]
  },
  {
   "cell_type": "code",
   "execution_count": null,
   "metadata": {
    "collapsed": false
   },
   "outputs": [],
   "source": [
    "from __future__ import print_function\n",
    "import numpy as np\n",
    "import matplotlib.pyplot as plt\n",
    "%matplotlib inline\n",
    "plt.rcParams['figure.figsize'] = (15.0, 8.0) "
   ]
  },
  {
   "cell_type": "markdown",
   "metadata": {},
   "source": [
    "## A Look at Each Host Galaxy's Cepheids\n",
    "\n",
    "Let's read in all the data, and look at each galaxy's Cepheid measurements separately. Instead of using `pandas`, we'll write our own simple data structure, and give it a custom plotting method so we can compare the different host galaxies' datasets."
   ]
  },
  {
   "cell_type": "code",
   "execution_count": null,
   "metadata": {
    "collapsed": false
   },
   "outputs": [],
   "source": [
    "# First, we need to know what's in the data file.\n",
    "\n",
    "!head -30 R11ceph.dat"
   ]
  },
  {
   "cell_type": "code",
   "execution_count": null,
   "metadata": {
    "collapsed": false
   },
   "outputs": [],
   "source": [
    "class Cepheids(object):\n",
    "    \n",
    "    def __init__(self,filename):\n",
    "        # Read in the data and store it in this master array:\n",
    "        self.data = np.loadtxt(filename)\n",
    "        self.hosts = self.data[:,1].astype('int').astype('str')\n",
    "        # We'll need the plotting setup to be the same each time we make a plot:\n",
    "        colornames = ['red','orange','yellow','green','cyan','blue','violet','magenta','gray']\n",
    "        self.colors = dict(zip(self.list_hosts(), colornames))\n",
    "        self.xlimits = np.array([0.3,2.3])\n",
    "        self.ylimits = np.array([30.0,17.0])\n",
    "        return\n",
    "    \n",
    "    def list_hosts(self):\n",
    "        # The list of (9) unique galaxy host names:\n",
    "        return np.unique(self.hosts)\n",
    "    \n",
    "    def select(self,ID):\n",
    "        # Pull out one galaxy's data from the master array:\n",
    "        index = (self.hosts == str(ID))\n",
    "        self.m = self.data[index,2]\n",
    "        self.merr = self.data[index,3]\n",
    "        self.logP = np.log10(self.data[index,4])\n",
    "        return\n",
    "    \n",
    "    def plot(self,X):\n",
    "        # Plot all the points in the dataset for host galaxy X.\n",
    "        ID = str(X)\n",
    "        self.select(ID)\n",
    "        plt.rc('xtick', labelsize=16) \n",
    "        plt.rc('ytick', labelsize=16)\n",
    "        plt.errorbar(self.logP, self.m, yerr=self.merr, fmt='.', ms=7, lw=1, color=self.colors[ID], label='NGC'+ID)\n",
    "        plt.xlabel('$\\\\log_{10} P / {\\\\rm days}$',fontsize=20)\n",
    "        plt.ylabel('${\\\\rm magnitude (AB)}$',fontsize=20)\n",
    "        plt.xlim(self.xlimits)\n",
    "        plt.ylim(self.ylimits)\n",
    "        plt.title('Cepheid Period-Luminosity (Riess et al 2011)',fontsize=20)\n",
    "        return\n",
    "\n",
    "    def overlay_straight_line_with(self,m=0.0,c=24.0):\n",
    "        # Overlay a straight line with gradient m and intercept c.\n",
    "        x = self.xlimits\n",
    "        y = m*x + c\n",
    "        plt.plot(x, y, 'k-', alpha=0.5, lw=2)\n",
    "        plt.xlim(self.xlimits)\n",
    "        plt.ylim(self.ylimits)\n",
    "        return\n",
    "    \n",
    "    def add_legend(self):\n",
    "        plt.legend(loc='upper left')\n",
    "        return\n"
   ]
  },
  {
   "cell_type": "code",
   "execution_count": null,
   "metadata": {
    "collapsed": false
   },
   "outputs": [],
   "source": [
    "C = Cepheids('R11ceph.dat')\n",
    "print(C.colors)"
   ]
  },
  {
   "cell_type": "markdown",
   "metadata": {},
   "source": [
    "OK, now we are all set up! Let's plot some data."
   ]
  },
  {
   "cell_type": "code",
   "execution_count": null,
   "metadata": {
    "collapsed": false
   },
   "outputs": [],
   "source": [
    "C.plot(4258)\n",
    "\n",
    "C.plot(1309)\n",
    "\n",
    "# for ID in C.list_hosts():\n",
    "#     C.plot(ID)\n",
    "    \n",
    "C.overlay_straight_line_with(m=-3.0,c=26.0)\n",
    "\n",
    "C.add_legend()"
   ]
  },
  {
   "cell_type": "markdown",
   "metadata": {
    "collapsed": false
   },
   "source": [
    "## Q: Is the Cepheid Period-Luminosity relation a) a power law and b) universal?\n",
    "\n",
    "With your neighbor, try plotting up the different host galaxy's cepheid datasets. Can you find straight lines that \"fit\" all the data from each host? And do you get the same \"fit\" for each host? Notice that you can plot multiple datasets on the same axes.  "
   ]
  }
 ],
 "metadata": {
  "kernelspec": {
   "display_name": "Python 2",
   "language": "python",
   "name": "python2"
  },
  "language_info": {
   "codemirror_mode": {
    "name": "ipython",
    "version": 2
   },
   "file_extension": ".py",
   "mimetype": "text/x-python",
   "name": "python",
   "nbconvert_exporter": "python",
   "pygments_lexer": "ipython2",
   "version": "2.7.12"
  }
 },
 "nbformat": 4,
 "nbformat_minor": 0
}
