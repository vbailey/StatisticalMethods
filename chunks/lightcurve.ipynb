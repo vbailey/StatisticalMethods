{
 "cells": [
  {
   "cell_type": "markdown",
   "metadata": {
    "slideshow": {
     "slide_type": "slide"
    }
   },
   "source": [
    "# Data Set: Microlensing Light Curve\n",
    "\n",
    "This week we introduce time series data, specifically a *lightcurve* from the Optical Gravitational Lensing Experiment (OGLE).\n",
    "\n",
    "<table>\n",
    "    <tr>\n",
    "        <td><img src=\"../graphics/lightcurve_warszawskie.jpg\" width=100%></td>\n",
    "    </tr>\n",
    "</table>"
   ]
  },
  {
   "cell_type": "markdown",
   "metadata": {
    "slideshow": {
     "slide_type": "notes"
    }
   },
   "source": [
    "Image credit: Krzysztof Ulaczyk (Creative Commons Attribution-Share Alike 2.5 Generic license)"
   ]
  },
  {
   "cell_type": "markdown",
   "metadata": {
    "slideshow": {
     "slide_type": "slide"
    }
   },
   "source": [
    "OGLE uses a telescope in Poland to monitors stars in the Milky Way, looking for *transient* events, specifically temporary magnification due to gravitational lensing by some intervening, compact mass.\n",
    "\n",
    "<table>\n",
    "    <tr>\n",
    "        <td><img src=\"../graphics/lightcurve_microlensing.png\" width=100%></td>\n",
    "    </tr>\n",
    "</table>"
   ]
  },
  {
   "cell_type": "markdown",
   "metadata": {
    "slideshow": {
     "slide_type": "notes"
    }
   },
   "source": [
    "Image credit: NASA (public domain)"
   ]
  },
  {
   "cell_type": "markdown",
   "metadata": {
    "slideshow": {
     "slide_type": "slide"
    }
   },
   "source": [
    "Because distant stars are point sources, magnification equates to an apparent brightening rather than a detectable increase in size.\n",
    "\n",
    "<table>\n",
    "    <tr>\n",
    "        <td><img src=\"../graphics/lightcurve_point_micro.gif\" width=90%></td>\n",
    "    </tr>\n",
    "</table>"
   ]
  },
  {
   "cell_type": "markdown",
   "metadata": {
    "slideshow": {
     "slide_type": "notes"
    }
   },
   "source": [
    "Image credit: B. Scott Gaudi  (Ohio State University)"
   ]
  },
  {
   "cell_type": "markdown",
   "metadata": {
    "slideshow": {
     "slide_type": "slide"
    }
   },
   "source": [
    "We'll use data from the [OGLE Early Warning System](http://ogle.astrouw.edu.pl/ogle4/ews/ews.html). Let's have a look at the information they provide for one of their microlensing events."
   ]
  },
  {
   "cell_type": "markdown",
   "metadata": {
    "slideshow": {
     "slide_type": "slide"
    }
   },
   "source": [
    "The `phot.dat` associated with an OGLE EWS event looks something like this\n",
    "\n",
    "```\n",
    "2455260.85336 19.799 0.117 4.67 685.0\n",
    "2455260.90029 19.686 0.096 4.00 787.0\n",
    "2455261.79151 19.592 0.102 4.77 685.0\n",
    "2455264.81438 19.757 0.117 5.16 594.0\n",
    "2455264.86761 19.683 0.100 4.63 552.0\n",
    "2455264.88488 19.746 0.103 4.40 552.0\n",
    "2455265.79053 19.838 0.106 4.31 530.0\n",
    "2455266.77867 19.703 0.117 5.49 515.0\n",
    "2455267.82049 19.689 0.090 4.91 428.0\n",
    "...\n",
    "```"
   ]
  },
  {
   "cell_type": "markdown",
   "metadata": {
    "slideshow": {
     "slide_type": "slide"
    }
   },
   "source": [
    "As described on the OGLE page, the columns of this text file are\n",
    "\n",
    "```\n",
    "Hel.JD, I magnitude, magnitude error, seeing estimation (in pixels - 0.26\"/pixel) and sky level\n",
    "```\n",
    "\n",
    "\n"
   ]
  },
  {
   "cell_type": "markdown",
   "metadata": {
    "slideshow": {
     "slide_type": "slide"
    }
   },
   "source": [
    "#### Heliocentric Julian Date\n",
    "\n",
    "This is time, measured in days, since a fixed reference. The \"heliocentric\" part means that it has been corrected to the reference frame of the Sun, i.e. the few minutes of light travel time more or less that would affect photon arrivals at different parts of the Earth's year have been subtracted off."
   ]
  },
  {
   "cell_type": "markdown",
   "metadata": {
    "slideshow": {
     "slide_type": "slide"
    }
   },
   "source": [
    "#### $I$ magnitude, magnitude error\n",
    "\n",
    "Estimates and some kind of errors for the magnitude of the lensed star in the $I$ band (a near infrared band). Recall that astronomical magnitude is related to flux by\n",
    "\n",
    "$m = m_\\mathrm{ref} - 2.5\\,\\log_{10}\\left(\\frac{F}{F_\\mathrm{ref}}\\right)$."
   ]
  },
  {
   "cell_type": "markdown",
   "metadata": {
    "slideshow": {
     "slide_type": "slide"
    }
   },
   "source": [
    "#### seeing\n",
    "\n",
    "Width of the point spread function during the given observation (due to atmospheric blurring).\n",
    "\n",
    "### $~$\n",
    "\n",
    "#### sky level\n",
    "\n",
    "\"Background\" flux from the Earth's atmosphere, in some unspecified units."
   ]
  },
  {
   "cell_type": "markdown",
   "metadata": {
    "slideshow": {
     "slide_type": "slide"
    }
   },
   "source": [
    "To get some hands on experience with the data, and practice with Python and NumPy, let's see if we can't read in the data and produce a plot similar to the one on the OGLE event summary page."
   ]
  },
  {
   "cell_type": "code",
   "execution_count": null,
   "metadata": {
    "collapsed": true
   },
   "outputs": [],
   "source": [
    "import numpy as np\n",
    "import matplotlib\n",
    "matplotlib.use('TkAgg')\n",
    "import matplotlib.pyplot as plt\n",
    "plt.rcParams['xtick.labelsize'] = 'x-large'\n",
    "plt.rcParams['ytick.labelsize'] = 'x-large'\n",
    "%matplotlib inline"
   ]
  },
  {
   "cell_type": "markdown",
   "metadata": {
    "slideshow": {
     "slide_type": "slide"
    }
   },
   "source": [
    "Assuming we've downloaded the data from, e.g.,\n",
    "\n",
    "```\n",
    "ftp://ftp.astrouw.edu.pl/ogle/ogle4/ews/2016/blg-0001/phot.dat\n",
    "```\n",
    "\n",
    "let's read it in (I've renamed it)"
   ]
  },
  {
   "cell_type": "code",
   "execution_count": null,
   "metadata": {
    "collapsed": false,
    "slideshow": {
     "slide_type": "-"
    }
   },
   "outputs": [],
   "source": [
    "dat = np.loadtxt('../data/ogle_2016_blg-0001.dat')\n",
    "dat.shape"
   ]
  },
  {
   "cell_type": "markdown",
   "metadata": {
    "slideshow": {
     "slide_type": "slide"
    }
   },
   "source": [
    "Extract the first 3 columns (we don't need the others).\n",
    "\n",
    "Also, subtract a big number from the date column for convenience."
   ]
  },
  {
   "cell_type": "code",
   "execution_count": null,
   "metadata": {
    "collapsed": true
   },
   "outputs": [],
   "source": [
    "t = dat[:,0] - 2450000.\n",
    "I = dat[:,1]\n",
    "Ierr = dat[:,2]"
   ]
  },
  {
   "cell_type": "markdown",
   "metadata": {
    "slideshow": {
     "slide_type": "slide"
    }
   },
   "source": [
    "Make a plot!"
   ]
  },
  {
   "cell_type": "code",
   "execution_count": null,
   "metadata": {
    "collapsed": false
   },
   "outputs": [],
   "source": [
    "plt.rcParams['figure.figsize'] = (12.0, 5.0)\n",
    "plt.errorbar(t, I, yerr=Ierr, fmt='none');\n",
    "plt.xlabel('HJD - 2450000', fontsize=14);\n",
    "plt.ylabel('I-band magnitude', fontsize=14);\n",
    "plt.gca().invert_yaxis();"
   ]
  },
  {
   "cell_type": "markdown",
   "metadata": {
    "slideshow": {
     "slide_type": "fragment"
    }
   },
   "source": [
    "Ta da!"
   ]
  }
 ],
 "metadata": {
  "anaconda-cloud": {},
  "celltoolbar": "Slideshow",
  "kernelspec": {
   "display_name": "Python [default]",
   "language": "python",
   "name": "python2"
  },
  "language_info": {
   "codemirror_mode": {
    "name": "ipython",
    "version": 2
   },
   "file_extension": ".py",
   "mimetype": "text/x-python",
   "name": "python",
   "nbconvert_exporter": "python",
   "pygments_lexer": "ipython2",
   "version": "2.7.12"
  },
  "livereveal": {
   "scroll": true,
   "start_slideshow_at": "selected"
  }
 },
 "nbformat": 4,
 "nbformat_minor": 0
}
