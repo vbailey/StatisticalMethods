{
 "cells": [
  {
   "cell_type": "markdown",
   "metadata": {
    "slideshow": {
     "slide_type": "slide"
    }
   },
   "source": [
    "# Dataset: Cepheid Star Periods and Magnitudes\n",
    "\n",
    "* Cepheids are stars whose brightness oscillates with a stable period the logarithm of which appears to be strongly correlated with their mean absolute magnitude.\n",
    "\n",
    "<img width=\"512\" src=\"../graphics/ESO-Cepheid_stars_NGC_300.jpg\"/>"
   ]
  },
  {
   "cell_type": "markdown",
   "metadata": {
    "slideshow": {
     "slide_type": "slide"
    }
   },
   "source": [
    "# Dataset: Cepheid Star Periods and Magnitudes\n",
    "\n",
    "* Cepheids are stars whose brightness oscillates with a stable period the logarithm of which appears to be strongly correlated with their mean absolute magnitude.\n",
    "\n",
    "<img width=\"512\" src=\"../graphics/Cepheid-variabledb92-600x461.jpg\"/>"
   ]
  },
  {
   "cell_type": "markdown",
   "metadata": {
    "slideshow": {
     "slide_type": "slide"
    }
   },
   "source": [
    "* A lot of _monitoring_ data - repeated imaging and subsequent \"photometry\" of the star - can provide a measurement of the absolute magnitude (if we know the distance to it's host galaxy) and the period of the oscillation.\n",
    "\n",
    "* Let's look at some Cepheid measurements reported by [Riess et al (2011)](https://arxiv.org/abs/1103.2976).  The data are in the form of datapoints, one for each star.\n",
    "\n",
    "* The periods are well measured, while the magnitudes come with reported error bars."
   ]
  },
  {
   "cell_type": "markdown",
   "metadata": {
    "slideshow": {
     "slide_type": "slide"
    }
   },
   "source": [
    "Let's read in all the data from their _catalog_ file, and look at each galaxy's Cepheid measurements separately."
   ]
  },
  {
   "cell_type": "code",
   "execution_count": null,
   "metadata": {
    "collapsed": false
   },
   "outputs": [],
   "source": [
    "datafile = '../examples/Cepheids/R11ceph.dat'\n",
    "! head -30 $datafile"
   ]
  },
  {
   "cell_type": "markdown",
   "metadata": {
    "slideshow": {
     "slide_type": "slide"
    }
   },
   "source": [
    "## Visualization\n",
    "\n",
    "We'll use a custom-built `Cepheids` class to read in and plot this data."
   ]
  },
  {
   "cell_type": "code",
   "execution_count": null,
   "metadata": {
    "collapsed": false
   },
   "outputs": [],
   "source": [
    "exec(open('../code/cepheids.py').read())\n",
    "\n",
    "%matplotlib inline"
   ]
  },
  {
   "cell_type": "code",
   "execution_count": null,
   "metadata": {
    "collapsed": false
   },
   "outputs": [],
   "source": [
    "# %load '../code/cepheids.py'    "
   ]
  },
  {
   "cell_type": "markdown",
   "metadata": {},
   "source": [
    "There are 9 different host galaxies, that we'll plot using different colors:"
   ]
  },
  {
   "cell_type": "code",
   "execution_count": null,
   "metadata": {
    "collapsed": false
   },
   "outputs": [],
   "source": [
    "data = Cepheids(datafile)\n",
    "print(data.colors)"
   ]
  },
  {
   "cell_type": "markdown",
   "metadata": {
    "slideshow": {
     "slide_type": "slide"
    }
   },
   "source": [
    "Now we are all set up! Let's plot a few of the datasets."
   ]
  },
  {
   "cell_type": "code",
   "execution_count": null,
   "metadata": {
    "collapsed": false
   },
   "outputs": [],
   "source": [
    "data.plot(4258)\n",
    "data.plot(1309)\n",
    "data.plot(4536)\n",
    "\n",
    "data.overlay_straight_line_with(a=-2.0,b=24.0)\n",
    "\n",
    "data.add_legend()"
   ]
  },
  {
   "cell_type": "markdown",
   "metadata": {
    "collapsed": false,
    "slideshow": {
     "slide_type": "slide"
    }
   },
   "source": [
    "###  Q: Is the Cepheid Period-Luminosity relation likely to be well-modeled by a power law ?\n",
    "\n",
    "Is it easy to find straight lines that \"fit\" all the data from each host? And why don't we get the same \"fit\" for each host?"
   ]
  }
 ],
 "metadata": {
  "anaconda-cloud": {},
  "celltoolbar": "Slideshow",
  "kernelspec": {
   "display_name": "Python 2",
   "language": "python",
   "name": "python2"
  },
  "language_info": {
   "codemirror_mode": {
    "name": "ipython",
    "version": 2
   },
   "file_extension": ".py",
   "mimetype": "text/x-python",
   "name": "python",
   "nbconvert_exporter": "python",
   "pygments_lexer": "ipython2",
   "version": "2.7.12"
  },
  "livereveal": {
   "scroll": true,
   "start_slideshow_at": "selected"
  }
 },
 "nbformat": 4,
 "nbformat_minor": 0
}
