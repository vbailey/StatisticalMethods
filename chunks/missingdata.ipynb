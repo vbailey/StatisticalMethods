{
 "cells": [
  {
   "cell_type": "markdown",
   "metadata": {
    "slideshow": {
     "slide_type": "slide"
    }
   },
   "source": [
    "# Missing Information and Selection Effects\n",
    "\n",
    "Goals:\n",
    "* Incorporate models for data selection into our toolkit\n",
    "* Understand when selection effects are ignorable, and when they must be accounted for"
   ]
  },
  {
   "cell_type": "markdown",
   "metadata": {
    "slideshow": {
     "slide_type": "slide"
    }
   },
   "source": [
    "## References\n",
    "\n",
    "* Gelman chapters 7 and 21"
   ]
  },
  {
   "cell_type": "markdown",
   "metadata": {
    "slideshow": {
     "slide_type": "slide"
    }
   },
   "source": [
    "## What does \"missing information\" mean?\n",
    "\n",
    "In physics, we're used to the idea that we never have complete information about a system.\n",
    "\n",
    "Trivial example: non-zero measurement errors mean that we're missing some information, namely the true value of whatever we've measured. We deal with this by incorporating that fact into our model, via the sampling distribution."
   ]
  },
  {
   "cell_type": "markdown",
   "metadata": {
    "slideshow": {
     "slide_type": "slide"
    }
   },
   "source": [
    "### What does \"missing information\" mean?\n",
    "\n",
    "We've seen a more complex example already, when introducing [hierarchical models](hierarchical.ipynb),\n",
    "\n",
    "*Future time-domain photometric surveys will discover too many supernovae to follow up and type spectroscopically. This means that if we want to do our SNIa experiment from the \"intrinsic scatter\" example, our data set will be contaminated by other supernova types.*\n",
    "\n",
    "We added \"group membership\" to the model, a latent variable that **would not be measured** for most SN."
   ]
  },
  {
   "cell_type": "markdown",
   "metadata": {
    "slideshow": {
     "slide_type": "slide"
    }
   },
   "source": [
    "## Today's key message\n",
    "\n",
    "1. No data set is perfectly complete (especially in astronomy!)\n",
    "2. It's our job to know whether that incompleteness can be ignored for the purpose of our inference\n",
    "3. If not, we need to model it appropriately and marginalize over our ignorance"
   ]
  },
  {
   "cell_type": "markdown",
   "metadata": {
    "slideshow": {
     "slide_type": "slide"
    }
   },
   "source": [
    "## More missingness mechanisms\n",
    "\n",
    "Two more ways that data can be missing are extremely common in astrophysics, and especially in surveys. In statistics, these are called **censoring** and **truncation**.\n",
    "\n",
    "**Censoring**: a given data point (astronomical source) is known to exist, but a relevant measurement for it is not available.\n",
    "\n",
    "This refers both to completely absent measurements and upper limits/non-detections, although in principle the latter case still provides us with a sampling distribution."
   ]
  },
  {
   "cell_type": "markdown",
   "metadata": {
    "slideshow": {
     "slide_type": "slide"
    }
   },
   "source": [
    "### More missingness mechanisms\n",
    "\n",
    "**Truncation**: not only are measurements missing, but the total number of sources that *should* be in the data set is unknown.\n",
    "\n",
    "In other words, the lack of a measurement means that we don't even know about a particular source's existence."
   ]
  },
  {
   "cell_type": "markdown",
   "metadata": {
    "slideshow": {
     "slide_type": "slide"
    }
   },
   "source": [
    "### Malmquist Bias\n",
    "\n",
    "These features are related astronomical terms that you may come across.\n",
    "\n",
    "**Malmquist bias** refers to the fact that flux-limited surveys have an effective *luminosity* limit for detection that rises with distance (redshift). Thus, the sample of measured luminosities is not representative of the whole population."
   ]
  },
  {
   "cell_type": "markdown",
   "metadata": {
    "slideshow": {
     "slide_type": "slide"
    }
   },
   "source": [
    "### Malmquist Bias\n",
    "\n",
    "<table>\n",
    "    <tr>\n",
    "        <td><a href=\"https://commons.wikimedia.org/wiki/File:Bias2.png\"><img src=\"../graphics/missing_malquist.png\" width=100%></a></td>\n",
    "    </tr>\n",
    "</table>"
   ]
  },
  {
   "cell_type": "markdown",
   "metadata": {
    "slideshow": {
     "slide_type": "notes"
    }
   },
   "source": [
    "Image credit: Wikimedia Commons user Galaxy1F10 (public domain)"
   ]
  },
  {
   "cell_type": "markdown",
   "metadata": {
    "slideshow": {
     "slide_type": "slide"
    }
   },
   "source": [
    "### Eddington Bias\n",
    "\n",
    "**Eddington bias** refers to the effect of noise or scatter on a luminosity function, $N(<L)$, the number of sources in some population less luminous than $L$.\n",
    "\n",
    "Because the true $N(<L)$ is usually steeply decreasing in practice, and extends below the survey flux limit, scatter in measurements of $L$ can have a big impact on the measured luminosity function."
   ]
  },
  {
   "cell_type": "markdown",
   "metadata": {
    "slideshow": {
     "slide_type": "slide"
    }
   },
   "source": [
    "### Eddington Bias\n",
    "\n",
    "This is a histogram rather than $N(<L)$, but you get the idea.\n",
    "\n",
    "<table>\n",
    "    <tr>\n",
    "        <td><img src=\"../graphics/missing_eddington.png\" width=100%></td>\n",
    "    </tr>\n",
    "</table>"
   ]
  },
  {
   "cell_type": "markdown",
   "metadata": {
    "slideshow": {
     "slide_type": "slide"
    }
   },
   "source": [
    "### General Selection Effects\n",
    "\n",
    "The terms Malmquist and Eddington bias were coined in relatively specific contexts. Usually, it's more accurate to say that a given data set is impacted by the selection procedure.\n",
    "\n",
    "Consider the (real) case of a flux-limited galaxy cluster survey. Cluster luminosities scale with mass, and the mass function (hence also the luminosity function) is steeply decreasing. The number as a function of mass and redshift, and the luminosity-mass relation, are both of interest."
   ]
  },
  {
   "cell_type": "markdown",
   "metadata": {
    "slideshow": {
     "slide_type": "slide"
    }
   },
   "source": [
    "### Selection Effects\n",
    "<table>\n",
    "    <tr>\n",
    "        <td><img src=\"../graphics/missing_RASS_zL.png\" width=50%></td>\n",
    "    </tr>\n",
    "</table>\n",
    "\n",
    "Complilation of ROSAT All-Sky Survey cluster detections"
   ]
  },
  {
   "cell_type": "markdown",
   "metadata": {
    "slideshow": {
     "slide_type": "slide"
    }
   },
   "source": [
    "### Selection Effects\n",
    "<table>\n",
    "    <tr>\n",
    "        <td><img src=\"../graphics/missing_expn_full.png\" width=90%></td>\n",
    "        <td></td>\n",
    "        <td><img src=\"../graphics/missing_expn_trun.png\" width=90%></td>\n",
    "    </tr>\n",
    "</table>\n",
    "\n",
    "Fictional luminosity-mass data, applying a threshold for detection"
   ]
  },
  {
   "cell_type": "markdown",
   "metadata": {
    "slideshow": {
     "slide_type": "notes"
    }
   },
   "source": [
    "Above 2 slides' image credits: A. Mantz ([MNRAS, 406:1773, 2010](http://adsabs.harvard.edu/abs/2010MNRAS.406.1773M))"
   ]
  },
  {
   "cell_type": "markdown",
   "metadata": {
    "slideshow": {
     "slide_type": "slide"
    }
   },
   "source": [
    "## How do we deal with missing information?\n",
    "\n",
    "There are some ad hoc approaches ... that we won't cover, because missing information fits straightforwardly within the inference framework used throughout this course.\n",
    "\n",
    "In short, we simply need to include the selection process for which data are observed and which are not in our generative model. This may involve expanding the model to include things like undetected sources."
   ]
  },
  {
   "cell_type": "markdown",
   "metadata": {
    "slideshow": {
     "slide_type": "slide"
    }
   },
   "source": [
    "### Modelling Missing Information\n",
    "\n",
    "Let's adopt the notation from Gelman (2004):\n",
    "* $y_\\mathrm{obs}$ and $y_\\mathrm{mis}$ are the observed and unobserved data, and $y=y_\\mathrm{obs}\\cup y_\\mathrm{mis}$\n",
    "* $I$ are indicator variables (0 or 1) telling us whether a given y is observed or not\n",
    "* $\\theta$ is the set of parameters needed to model a completely observed data set\n",
    "* $\\phi$ are any additional parameters needed to model the selection process\n",
    "\n",
    "We'll assume that $\\theta$ and $\\phi$ can always be separated."
   ]
  },
  {
   "cell_type": "markdown",
   "metadata": {
    "slideshow": {
     "slide_type": "slide"
    }
   },
   "source": [
    "### Modelling Missing Information\n",
    "\n",
    "The likelihood associated with a complete data set would be just\n",
    "\n",
    "$P(y|\\theta)$\n",
    "\n",
    "For our partially missing data set, this needs to also account for the inclusion parameters, $I$"
   ]
  },
  {
   "cell_type": "markdown",
   "metadata": {
    "slideshow": {
     "slide_type": "fragment"
    }
   },
   "source": [
    "$P(y,I|\\theta,\\phi) = P(y|\\theta)\\,P(I|\\phi,y)$"
   ]
  },
  {
   "cell_type": "markdown",
   "metadata": {
    "slideshow": {
     "slide_type": "slide"
    }
   },
   "source": [
    "### Modelling Missing Information\n",
    "\n",
    "Expanding out the $y$s,\n",
    "\n",
    "$P(y_\\mathrm{obs},y_\\mathrm{mis},I|\\theta,\\phi) = P(y_\\mathrm{obs},y_\\mathrm{mis}|\\theta)\\,P(I|\\phi,y_\\mathrm{obs},y_\\mathrm{mis})$\n",
    "\n",
    "This isn't yet a likelihood for the *observed* data, however. For that we need to marginalize over the  $y_\\mathrm{mis}$.\n",
    "\n",
    "$P(y_\\mathrm{obs},I|\\theta,\\phi) = \\int dy_\\mathrm{mis} \\, P(y_\\mathrm{obs},y_\\mathrm{mis}|\\theta)\\,P(I|\\phi,y_\\mathrm{obs},y_\\mathrm{mis})$"
   ]
  },
  {
   "cell_type": "markdown",
   "metadata": {
    "slideshow": {
     "slide_type": "slide"
    }
   },
   "source": [
    "### When can we ignore selection?\n",
    "\n",
    "Consider the likelihood in this form\n",
    "\n",
    "$P(y_\\mathrm{obs},I|\\theta,\\phi) = \\int dy_\\mathrm{mis} \\, P(y_\\mathrm{obs},y_\\mathrm{mis}|\\theta)\\,P(I|\\phi,y_\\mathrm{obs},y_\\mathrm{mis})$\n",
    "\n",
    "We can get away with ignoring the selection process if the posterior for the parameters of interest $P(\\theta|y_\\mathrm{obs},I)$ is equivalent to simply $P(\\theta|y_\\mathrm{obs})$."
   ]
  },
  {
   "cell_type": "markdown",
   "metadata": {
    "slideshow": {
     "slide_type": "slide"
    }
   },
   "source": [
    "### When can we ignore selection?\n",
    "\n",
    "This requires two things to be true:\n",
    "\n",
    "1. Selection doesn't depend on unobserved values\n",
    "2. Priors for the interesting ($\\theta$) and selection-related ($\\phi$) parameters are independent"
   ]
  },
  {
   "cell_type": "markdown",
   "metadata": {
    "slideshow": {
     "slide_type": "slide"
    }
   },
   "source": [
    "## Example: black hole $M$-$\\sigma$ relation\n",
    "\n",
    "Imagine we're fitting the relation between the central black hole mass and bulge stellar velocity dispersion for galaxies.\n",
    "\n",
    "<table>\n",
    "    <tr>\n",
    "        <td><img src=\"../graphics/missing_Msigma.jpg\" width=60%></td>\n",
    "    </tr>\n",
    "</table>"
   ]
  },
  {
   "cell_type": "markdown",
   "metadata": {
    "slideshow": {
     "slide_type": "notes"
    }
   },
   "source": [
    "Image credit: Msigma at the English Language Wikipedia (Creative Commons Attribution-Share Alike 3.0 Unported)"
   ]
  },
  {
   "cell_type": "markdown",
   "metadata": {
    "slideshow": {
     "slide_type": "slide"
    }
   },
   "source": [
    "### Example: black hole $M$-$\\sigma$ relation\n",
    "\n",
    "To start with, we'll assume a complete data set. Then the generative model needs\n",
    "* true values of $\\sigma$ for the $N$ galaxies\n",
    "* true values of $M$ for each galaxy, determined by a mean relation and scatter, parametrized by $\\theta$\n",
    "* sampling distributions for $M$ and $\\sigma$, which we'll assume are independent\n",
    "* prior distributions for $\\sigma$ and $\\theta$\n",
    "\n",
    "Go ahead and sketch the PGM yourselves."
   ]
  },
  {
   "cell_type": "markdown",
   "metadata": {
    "slideshow": {
     "slide_type": "slide"
    }
   },
   "source": [
    "### Example: black hole $M$-$\\sigma$ relation\n",
    "\n",
    "The likelihood for this model is just\n",
    "\n",
    "$P(\\sigma_\\mathrm{obs},M_\\mathrm{obs}|\\sigma,M,\\theta) = \\prod_{i=1}^N P(M_i|\\sigma_i,\\theta)\\,P(M_{\\mathrm{obs},i}|M_i)\\,P(\\sigma_{\\mathrm{obs},i}|\\sigma_i)$"
   ]
  },
  {
   "cell_type": "markdown",
   "metadata": {
    "slideshow": {
     "slide_type": "slide"
    }
   },
   "source": [
    "### Example: black hole $M$-$\\sigma$ relation\n",
    "\n",
    "Now imagine (realistically) that we don't have measurements for all the black hole masses.\n",
    "\n",
    "* The data need to be augmented by the inclusion vector, $I$, which implicitly includes the number of observed $M$s, $N_\\mathrm{obs}$\n",
    "* Instead of having an $M_\\mathrm{obs}$ for each galaxy, we have either an $M_\\mathrm{obs}$ or an $M_\\mathrm{mis}$\n",
    "\n",
    "Update the PGM."
   ]
  },
  {
   "cell_type": "markdown",
   "metadata": {
    "slideshow": {
     "slide_type": "slide"
    }
   },
   "source": [
    "### Example: black hole $M$-$\\sigma$ relation\n",
    "\n",
    "Following the notes above, the likelihood needs to become\n",
    "\n",
    "${N \\choose N_\\mathrm{obs}} \\prod_{i}^{N_\\mathrm{obs}} P(M_i|\\sigma_i,\\theta)\\,P(M_{\\mathrm{obs},i}|M_i)\\,P(\\sigma_{\\mathrm{obs},i}|\\sigma_i)\\,P(I_i|\\bullet,\\phi)$\n",
    "\n",
    "$\\times\\prod_{i}^{N_\\mathrm{mis}} \\int dM_{\\mathrm{mis},i} P(M_i|\\sigma_i,\\theta)\\,P(M_{\\mathrm{mis},i}|M_i)\\,P(\\sigma_{\\mathrm{obs},i}|\\sigma_i)\\,P(I_i|\\bullet,\\phi)$\n",
    "\n",
    "where $\\phi$ are additional parameters related to selection, and $\\bullet$ can in principle include any of $M_i$, $\\sigma_i$, $M_{\\mathrm{obs/mis},i}$ and $\\sigma_{\\mathrm{obs/mis},i}$"
   ]
  },
  {
   "cell_type": "markdown",
   "metadata": {
    "slideshow": {
     "slide_type": "slide"
    }
   },
   "source": [
    "### Example: black hole $M$-$\\sigma$ relation\n",
    "\n",
    "**Note well** that a binomial term, ${N \\choose N_\\mathrm{obs}}$ has sneakily appeared.\n",
    "\n",
    "The reason for this is subtle, and has to do with the statistical concept of *exchangeability* (a priori equivalence of data points).\n",
    "\n",
    "As we've set things up, the fully observed data are exchangeable with one another, as are the partially observed data, but the the full data set is not, by virtue of containing these two classes."
   ]
  },
  {
   "cell_type": "markdown",
   "metadata": {
    "slideshow": {
     "slide_type": "slide"
    }
   },
   "source": [
    "### Example: black hole $M$-$\\sigma$ relation\n",
    "\n",
    "It helps to think in terms of the generative model here. Namely, because the order of data points holds no meaning for us, the binomial term is there to reflect the number of ways we might generate completely equivalent (except for the ordering) data sets.\n",
    "\n",
    "In other words, $P(I|\\ldots)$ shouldn't actually give us the likelihood of a specificly ordered inclusion vector, but instead the likelihood that $I$ has the observed number of fully observed data points in it ($N_\\mathrm{obs}$), along with any dependence on $(\\bullet,\\phi)$."
   ]
  },
  {
   "cell_type": "markdown",
   "metadata": {
    "slideshow": {
     "slide_type": "slide"
    }
   },
   "source": [
    "## Exercise: $M$-$\\sigma$ data missing at random\n",
    "\n",
    "Using the above example, consider this simple inclusion model: we tried to obtain measurements of $M$ for every galaxy, but that these attempts were only successful with known probability $\\phi$ (thanks to, e.g., clouds).\n",
    "\n",
    "1. Write down the corresponding expression for $P(I_i|M_i,\\sigma_i,M_{\\mathrm{obs/mis},i},\\sigma_{\\mathrm{obs/mis},i},\\phi)$\n",
    "\n",
    "2. Simplify the likelihood given in the example as much as possible. Take particular note of what happens with the terms involving selection (i.e. $N_\\mathrm{obs}$ and $\\phi$). Do you recognize the function that these terms form?\n",
    "\n",
    "3. Are selection effects ignorable in this problem?"
   ]
  },
  {
   "cell_type": "markdown",
   "metadata": {
    "slideshow": {
     "slide_type": "slide"
    }
   },
   "source": [
    "## Exercise: more general missing $M$-$\\sigma$ data\n",
    "\n",
    "Now let's suppose that, somehow, the inclusion probability depends on $\\sigma_i$ (only).\n",
    "\n",
    "1. Again, simplify the general likelihood for this example as much as possible.\n",
    "\n",
    "2. Are selection effects ignorable in this problem? Are there specific forms of $P(I_i|\\ldots)$ for which they are ignorable, and some for which they are not?"
   ]
  },
  {
   "cell_type": "markdown",
   "metadata": {
    "slideshow": {
     "slide_type": "slide"
    }
   },
   "source": [
    "## Bonus exercise: math\n",
    "\n",
    "Earlier, we claimed that selection can be ignored provided\n",
    "\n",
    "1. Selection doesn't depend on unobserved values\n",
    "2. Priors for the interesting ($\\theta$) and selection-related ($\\phi$) are independent\n",
    "\n",
    "Show that this is sufficient."
   ]
  },
  {
   "cell_type": "markdown",
   "metadata": {
    "slideshow": {
     "slide_type": "slide"
    }
   },
   "source": [
    "## Bonus exercise: galaxy cluster scaling relations\n",
    "\n",
    "This is a more general version of a regression where selection plays a role.\n",
    "\n",
    "Our generative model will include\n",
    "* true values of mass ($M$) for the $N$ clusters in some search volume\n",
    "* true values of luminosity ($L$) and temperature ($T$) for each cluster, determined by mean relations and joint intrinsic scatter, all parametrized by $\\theta$ (note that in this example, $M$ is the independent variable of the scaling relation, not the dependent one)\n",
    "* sampling distributions for $L$, $T$ and $M$, which may not be independent\n",
    "* prior distributions for $M$ and $\\theta$\n",
    "\n",
    "If it helps to visualize things, you can assume the sampling distributions and the intrinsic scatter are multivariate normal.\n",
    "\n",
    "In this exercise, assume that only clusters with luminosity over some threshold, $L\\geq L_\\mathrm{th}$, are detected in a survey. We have complete information for $N_\\mathrm{obs}$ detected clusters, but no information for the remaining clusters, nor do we know their total number, $N$.\n",
    "\n",
    "1. Sketch a cartoon of the model and a PGM, and write down the likelihood.\n",
    "2. In general, are selection effects ignorable for inferences about the $T$-$M$ relation (the mean scaling and the marginal intrinsic scatter in $T$)? If not, are there conditions on the sampling distributions and/or intrinsic scatter that would make selection effects ignorable?\n",
    "2. In general, are selection effects ignorable for inferences about the $L$-$M$ relation? If not, are there conditions on the sampling distributions and/or intrinsic scatter that would make selection effects ignorable?"
   ]
  }
 ],
 "metadata": {
  "celltoolbar": "Slideshow",
  "kernelspec": {
   "display_name": "Python 2",
   "language": "python",
   "name": "python2"
  },
  "language_info": {
   "codemirror_mode": {
    "name": "ipython",
    "version": 2
   },
   "file_extension": ".py",
   "mimetype": "text/x-python",
   "name": "python",
   "nbconvert_exporter": "python",
   "pygments_lexer": "ipython2",
   "version": "2.7.12"
  },
  "livereveal": {
   "scroll": true,
   "start_slideshow_at": "selected"
  }
 },
 "nbformat": 4,
 "nbformat_minor": 0
}
