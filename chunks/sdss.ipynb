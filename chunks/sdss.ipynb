{
 "cells": [
  {
   "cell_type": "markdown",
   "metadata": {
    "slideshow": {
     "slide_type": "slide"
    }
   },
   "source": [
    "# Dataset: The SDSS Photometric Catalog\n",
    "\n",
    "<table><tr>\n",
    "<td><img src=\"../graphics/sdss-dusk.jpg\" width=512></td>\n",
    "<td><img src=\"../graphics/NGC_1130_SDSS.jpg\" width=512></td>\n",
    "</tr></table>"
   ]
  },
  {
   "cell_type": "markdown",
   "metadata": {
    "slideshow": {
     "slide_type": "slide"
    }
   },
   "source": [
    "## SDSS\n",
    "\n",
    "* The Sloan Digital Sky Survey imaged over 10,000 sq degrees of sky (about 25% of the total), automatically detecting, measuring and \"cataloging\" millions of \"objects.\"\n",
    "\n",
    "\n",
    "* While the primary data products of the SDSS was (and still are) its spectroscopic surveys, the photometric survey provides an important testbed for imaging surveys like DES and LSST.\n",
    "\n",
    "\n",
    "* Let's download part of the SDSS photometric object catalog and explore the measurements it contains."
   ]
  },
  {
   "cell_type": "markdown",
   "metadata": {
    "slideshow": {
     "slide_type": "slide"
    }
   },
   "source": [
    "## DR12\n",
    "\n",
    "* SDSS data release 12 (DR12) is described [at the SDSS3 website](http://www.sdss.org/dr12/) and in the survey paper by [Alam et al 2015](http://arxiv.org/abs/1501.00963). \n",
    "\n",
    "* The DR12 photometric catalog is an [online SQL database]((http://skyserver.sdss.org/dr12/en/tools/search/sql.aspx) that can be [queried](http://skyserver.sdss.org/dr12/en/help/docs/realquery.aspx) for data\n",
    "\n",
    "> Small test queries can be executed directly in the browser. Larger ones (involving more than a few tens of thousands of objects, or that involve a lot of processing) should be submitted via the [CasJobs](http://skyserver.sdss.org/CasJobs/) system."
   ]
  },
  {
   "cell_type": "markdown",
   "metadata": {
    "slideshow": {
     "slide_type": "slide"
    }
   },
   "source": [
    "## Querying the DR12 database"
   ]
  },
  {
   "cell_type": "code",
   "execution_count": null,
   "metadata": {
    "collapsed": false
   },
   "outputs": [],
   "source": [
    "exec(open('../examples/SDSScatalog/SDSS.py').read())\n",
    "import numpy as np, pandas as pd, matplotlib\n",
    "matplotlib.rcParams['figure.figsize'] = (12.0, 12.0)\n",
    "%matplotlib inline"
   ]
  },
  {
   "cell_type": "code",
   "execution_count": null,
   "metadata": {
    "collapsed": false
   },
   "outputs": [],
   "source": [
    "objects = \"SELECT top 10000 \\\n",
    "ra, \\\n",
    "dec, \\\n",
    "type, \\\n",
    "dered_u as u, \\\n",
    "dered_g as g, \\\n",
    "dered_r as r, \\\n",
    "dered_i as i, \\\n",
    "petroR50_i AS size \\\n",
    "FROM PhotoObjAll \\\n",
    "WHERE \\\n",
    "((type = '3' OR type = '6') AND \\\n",
    " ra > 185.0 AND ra < 185.2 AND \\\n",
    " dec > 15.0 AND dec < 15.2)\"\n",
    "print (objects)"
   ]
  },
  {
   "cell_type": "markdown",
   "metadata": {
    "slideshow": {
     "slide_type": "slide"
    }
   },
   "source": [
    "## Querying the DR12 database"
   ]
  },
  {
   "cell_type": "code",
   "execution_count": null,
   "metadata": {
    "collapsed": false,
    "scrolled": true
   },
   "outputs": [],
   "source": [
    "# Download some data. This can take a while...\n",
    "sdssdata = select(objects)\n",
    "sdssdata.head(50)"
   ]
  },
  {
   "cell_type": "markdown",
   "metadata": {
    "slideshow": {
     "slide_type": "slide"
    }
   },
   "source": [
    "## Querying the DR12 database"
   ]
  },
  {
   "cell_type": "markdown",
   "metadata": {},
   "source": [
    "Note:\n",
    "\n",
    "* Some values of `size` are large and negative - indicating a problem with the automated measurement routine. We will need to deal with these.\n",
    "\n",
    "\n",
    "* Sizes are \"effective radii\" in arcseconds. The typical resolution (\"point spread function\" effective radius) in an SDSS image is around 0.7\".\n",
    "\n",
    "\n",
    "The dataset we just downloaded is also saved in the course repo."
   ]
  },
  {
   "cell_type": "code",
   "execution_count": null,
   "metadata": {
    "collapsed": true
   },
   "outputs": [],
   "source": [
    "# ! mkdir -p ../examples/SDSScatalog/downloads\n",
    "# ! mv SDSSobjects.csv ../examples/SDSScatalog/downloads/"
   ]
  },
  {
   "cell_type": "markdown",
   "metadata": {
    "slideshow": {
     "slide_type": "slide"
    }
   },
   "source": [
    "## Visualizing Data in N-dimensions\n",
    "\n",
    "* This is, in general, difficult.\n",
    "\n",
    "\n",
    "* Looking at all possible 1 and 2-dimensional histograms/scatter plots helps a lot. \n",
    "\n",
    "\n",
    "* Color coding can bring in a 3rd dimension ([and even a 4th](http://blogs.scientificamerican.com/sa-visual/visualizing-4-dimensional-asteroids1/)). Interactive plots and movies are also well worth thinking about.\n",
    "<br>"
   ]
  },
  {
   "cell_type": "code",
   "execution_count": null,
   "metadata": {
    "collapsed": false,
    "slideshow": {
     "slide_type": "slide"
    }
   },
   "outputs": [],
   "source": [
    "# We'll use astronomical g-r color  as the colorizer, and then plot \n",
    "# position, magnitude, size and color against each other.\n",
    "\n",
    "data = pd.read_csv(\"../examples/SDSScatalog/downloads/SDSSobjects.csv\",usecols=[\"ra\",\"dec\",\"u\",\"g\",\\\n",
    "                                                \"r\",\"i\",\"size\"])\n",
    "\n",
    "# Filter out objects with bad magnitude or size measurements:\n",
    "data = data[(data[\"u\"] > 0) & (data[\"g\"] > 0) & (data[\"r\"] > 0) & (data[\"i\"] > 0) & (data[\"size\"] > 0)]\n",
    "\n",
    "# Log size, and g-r color, will be more useful:\n",
    "data['log_size'] = np.log10(data['size'])\n",
    "data['g-r_color'] = data['g'] - data['r']\n",
    "\n",
    "# Drop the things we're not so interested in:\n",
    "del data['u'], data['g'], data['r'], data['size']\n",
    "\n",
    "data.head()"
   ]
  },
  {
   "cell_type": "markdown",
   "metadata": {
    "slideshow": {
     "slide_type": "slide"
    }
   },
   "source": [
    "## Visualizing some DR12 object properties"
   ]
  },
  {
   "cell_type": "code",
   "execution_count": null,
   "metadata": {
    "collapsed": false,
    "slideshow": {
     "slide_type": "-"
    }
   },
   "outputs": [],
   "source": [
    "plot_everything(data, colorizer='g-r_color', limits=(-1.0, 3.0))"
   ]
  }
 ],
 "metadata": {
  "anaconda-cloud": {},
  "celltoolbar": "Slideshow",
  "kernelspec": {
   "display_name": "Python 2",
   "language": "python",
   "name": "python2"
  },
  "language_info": {
   "codemirror_mode": {
    "name": "ipython",
    "version": 2
   },
   "file_extension": ".py",
   "mimetype": "text/x-python",
   "name": "python",
   "nbconvert_exporter": "python",
   "pygments_lexer": "ipython2",
   "version": "2.7.12"
  },
  "livereveal": {
   "scroll": true,
   "start_slideshow_at": "selected"
  }
 },
 "nbformat": 4,
 "nbformat_minor": 0
}
